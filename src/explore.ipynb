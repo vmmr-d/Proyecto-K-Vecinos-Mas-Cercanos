{
    "cells": [
        {
            "cell_type": "markdown",
            "metadata": {},
            "source": [
                "# Explore here"
            ]
        },
        {
            "cell_type": "code",
            "execution_count": 1,
            "metadata": {},
            "outputs": [],
            "source": [
                "# Impportamos Librerias necesarias\n",
                "import pandas as pd\n",
                "import sqlite3\n",
                "import json\n",
                "from ast import literal_eval\n",
                "from sklearn.feature_extraction.text import TfidfVectorizer\n",
                "from sklearn.metrics.pairwise import cosine_similarity\n",
                "from pickle import dump"
            ]
        },
        {
            "cell_type": "markdown",
            "metadata": {},
            "source": [
                "# Datos"
            ]
        },
        {
            "cell_type": "code",
            "execution_count": 2,
            "metadata": {},
            "outputs": [],
            "source": [
                "# Cargamos los datasets\n",
                "df_movies = pd.read_csv('../data/raw/tmdb_5000_movies.csv')\n",
                "df_credits = pd.read_csv('../data/raw/tmdb_5000_credits.csv')"
            ]
        },
        {
            "cell_type": "code",
            "execution_count": 3,
            "metadata": {},
            "outputs": [
                {
                    "data": {
                        "text/plain": [
                            "((4803, 20), (4803, 4))"
                        ]
                    },
                    "execution_count": 3,
                    "metadata": {},
                    "output_type": "execute_result"
                }
            ],
            "source": [
                "# Tamaño de los datasets\n",
                "df_movies.shape, df_credits.shape"
            ]
        },
        {
            "cell_type": "markdown",
            "metadata": {},
            "source": [
                "# Base de Datos SQL"
            ]
        },
        {
            "cell_type": "code",
            "execution_count": 4,
            "metadata": {},
            "outputs": [],
            "source": [
                "# Creamos la base de datos SQLite\n",
                "conn = sqlite3.connect('movies_database.db')"
            ]
        },
        {
            "cell_type": "code",
            "execution_count": 5,
            "metadata": {},
            "outputs": [
                {
                    "data": {
                        "text/plain": [
                            "4803"
                        ]
                    },
                    "execution_count": 5,
                    "metadata": {},
                    "output_type": "execute_result"
                }
            ],
            "source": [
                "# Almacenar en tablas separadas\n",
                "df_movies.to_sql('movies', conn, index=False, if_exists='replace')\n",
                "df_credits.to_sql('credits', conn, index=False, if_exists='replace')"
            ]
        },
        {
            "cell_type": "code",
            "execution_count": 6,
            "metadata": {},
            "outputs": [],
            "source": [
                "# Unimos las tablas con SQL\n",
                "query = \"\"\"\n",
                "SELECT m.id AS movie_id,\n",
                "       m.title,\n",
                "       m.overview,\n",
                "       m.genres,\n",
                "       m.keywords,\n",
                "       c.cast,\n",
                "       c.crew\n",
                "FROM movies m\n",
                "INNER JOIN credits c\n",
                "ON m.title = c.title;\n",
                "\"\"\"\n",
                "\n",
                "data_unida = pd.read_sql_query(query, conn)\n",
                "conn.close()"
            ]
        },
        {
            "cell_type": "markdown",
            "metadata": {},
            "source": [
                "Para unir los datasets con la columna 'title' se pudo usar este código\n",
                "\n",
                "\n",
                "'''''\n",
                "df_unido = pd.merge(\n",
                "    df_credits,\n",
                "    df_movies,\n",
                "    on='title',\n",
                "    how='inner',\n",
                "    validate='m:m')\n",
                "'''"
            ]
        },
        {
            "cell_type": "code",
            "execution_count": 7,
            "metadata": {},
            "outputs": [],
            "source": [
                "# Eliminamos columnas duplicadas\n",
                "data_unida = data_unida.loc[:, ~data_unida.columns.duplicated()]"
            ]
        },
        {
            "cell_type": "markdown",
            "metadata": {},
            "source": [
                "# Procesar datos Json"
            ]
        },
        {
            "cell_type": "code",
            "execution_count": 8,
            "metadata": {},
            "outputs": [],
            "source": [
                "# Función para transformar las columnas JSON\n",
                "def procesar_json(columna, clave='name', limite=None):\n",
                "    def convertir(x):\n",
                "        try:\n",
                "            datos = literal_eval(x) if isinstance(x, str) else x\n",
                "            return [item[clave] for item in datos][:limite]\n",
                "        except:\n",
                "            return []\n",
                "    return convertir"
            ]
        },
        {
            "cell_type": "code",
            "execution_count": 9,
            "metadata": {},
            "outputs": [],
            "source": [
                "# Procesamos las columnas JSON\n",
                "data_unida['genres'] = data_unida['genres'].apply(procesar_json('genres'))\n",
                "data_unida['keywords'] = data_unida['keywords'].apply(procesar_json('keywords'))\n",
                "data_unida['cast'] = data_unida['cast'].apply(procesar_json('cast', limite=3))"
            ]
        },
        {
            "cell_type": "code",
            "execution_count": 10,
            "metadata": {},
            "outputs": [],
            "source": [
                "# Procesamos crew para obtener director\n",
                "def obtener_director(x):\n",
                "    try:\n",
                "        crew = literal_eval(x) if isinstance(x, str) else x\n",
                "        return [m['name'] for m in crew if m['job'] == 'Director']\n",
                "    except:\n",
                "        return []\n",
                "\n",
                "data_unida['crew'] = data_unida['crew'].apply(obtener_director)"
            ]
        },
        {
            "cell_type": "code",
            "execution_count": 11,
            "metadata": {},
            "outputs": [],
            "source": [
                "# Función para eliminar espacios entre palabras\n",
                "def quitar_espacios(lista):\n",
                "    return [texto.replace(\" \", \"\") for texto in lista]\n",
                "\n",
                "for columna in ['genres', 'cast', 'crew', 'keywords']:\n",
                "    data_unida[columna] = data_unida[columna].apply(quitar_espacios)"
            ]
        },
        {
            "cell_type": "code",
            "execution_count": 12,
            "metadata": {},
            "outputs": [],
            "source": [
                "# Creamos la columna tags\n",
                "data_unida['tags'] = (\n",
                "    data_unida['overview'].fillna('').apply(lambda x: [x]) +\n",
                "    data_unida['genres'] +\n",
                "    data_unida['keywords'] +\n",
                "    data_unida['cast'] +\n",
                "    data_unida['crew'])\n",
                "\n",
                "data_unida['tags'] = data_unida['tags'].apply(lambda x: ' '.join(x))"
            ]
        },
        {
            "cell_type": "code",
            "execution_count": 13,
            "metadata": {},
            "outputs": [],
            "source": [
                "# DataFrame final\n",
                "df = data_unida[['movie_id', 'title', 'tags']]"
            ]
        },
        {
            "cell_type": "code",
            "execution_count": 14,
            "metadata": {},
            "outputs": [
                {
                    "data": {
                        "text/plain": [
                            "0"
                        ]
                    },
                    "execution_count": 14,
                    "metadata": {},
                    "output_type": "execute_result"
                }
            ],
            "source": [
                "df.duplicated().sum()"
            ]
        },
        {
            "cell_type": "code",
            "execution_count": 15,
            "metadata": {},
            "outputs": [
                {
                    "data": {
                        "text/plain": [
                            "movie_id    0\n",
                            "title       0\n",
                            "tags        0\n",
                            "dtype: int64"
                        ]
                    },
                    "execution_count": 15,
                    "metadata": {},
                    "output_type": "execute_result"
                }
            ],
            "source": [
                "df.isnull().sum()"
            ]
        },
        {
            "cell_type": "markdown",
            "metadata": {},
            "source": [
                "# Modelo KNN"
            ]
        },
        {
            "cell_type": "code",
            "execution_count": 16,
            "metadata": {},
            "outputs": [],
            "source": [
                "# Vectorización TF-IDF\n",
                "tfidf = TfidfVectorizer(stop_words='english', max_features=5000)\n",
                "tfidf_matrix = tfidf.fit_transform(df['tags'])"
            ]
        },
        {
            "cell_type": "code",
            "execution_count": 17,
            "metadata": {},
            "outputs": [],
            "source": [
                "# Calcular similitud coseno\n",
                "cosine_sim = cosine_similarity(tfidf_matrix, tfidf_matrix)"
            ]
        },
        {
            "cell_type": "code",
            "execution_count": 18,
            "metadata": {},
            "outputs": [],
            "source": [
                "# Mapeo de títulos a índices\n",
                "indices = pd.Series(df.index, index=df['title']).drop_duplicates()"
            ]
        },
        {
            "cell_type": "code",
            "execution_count": 19,
            "metadata": {},
            "outputs": [],
            "source": [
                "# Función de recomendación\n",
                "def recomendar_pelicula(titulo):\n",
                "    try:\n",
                "        # Obtener índice\n",
                "        idx = indices[titulo]\n",
                "        \n",
                "        # Obtener puntuaciones de similitud\n",
                "        sim_scores = list(enumerate(cosine_sim[idx]))\n",
                "        \n",
                "        # Ordenar por similitud\n",
                "        sim_scores = sorted(sim_scores, key=lambda x: x[1], reverse=True)\n",
                "        \n",
                "        # Obtener top 5 (excluyendo la misma película)\n",
                "        top_peliculas = sim_scores[1:6]\n",
                "        \n",
                "        # Obtener índices\n",
                "        peliculas_indices = [i[0] for i in top_peliculas]\n",
                "        \n",
                "        # Mostrar resultados\n",
                "        print(f\"\\nRecomendaciones para '{titulo}':\")\n",
                "        for i, indice in enumerate(peliculas_indices, 1):\n",
                "            print(f\"{i}. {df.iloc[indice]['title']}\")\n",
                "            \n",
                "    except KeyError:\n",
                "        print(f\"\\nError: No se encontró la película '{titulo}' en la base de datos.\")"
            ]
        },
        {
            "cell_type": "markdown",
            "metadata": {},
            "source": [
                "# Ejemplo de Uso"
            ]
        },
        {
            "cell_type": "code",
            "execution_count": 20,
            "metadata": {},
            "outputs": [
                {
                    "name": "stdout",
                    "output_type": "stream",
                    "text": [
                        "\n",
                        "Recomendaciones para 'Avatar':\n",
                        "1. Aliens\n",
                        "2. Falcon Rising\n",
                        "3. Battle: Los Angeles\n",
                        "4. Apollo 18\n",
                        "5. Star Trek Into Darkness\n"
                    ]
                }
            ],
            "source": [
                "recomendar_pelicula(\"Avatar\")"
            ]
        },
        {
            "cell_type": "code",
            "execution_count": 21,
            "metadata": {},
            "outputs": [
                {
                    "name": "stdout",
                    "output_type": "stream",
                    "text": [
                        "\n",
                        "Recomendaciones para 'The Godfather':\n",
                        "1. The Godfather: Part II\n",
                        "2. The Godfather: Part III\n",
                        "3. The Master of Disguise\n",
                        "4. Easy Money\n",
                        "5. Mickey Blue Eyes\n"
                    ]
                }
            ],
            "source": [
                "recomendar_pelicula(\"The Godfather\")"
            ]
        }
    ],
    "metadata": {
        "kernelspec": {
            "display_name": "Python 3",
            "language": "python",
            "name": "python3"
        },
        "language_info": {
            "codemirror_mode": {
                "name": "ipython",
                "version": 3
            },
            "file_extension": ".py",
            "mimetype": "text/x-python",
            "name": "python",
            "nbconvert_exporter": "python",
            "pygments_lexer": "ipython3",
            "version": "3.12.9"
        },
        "orig_nbformat": 4
    },
    "nbformat": 4,
    "nbformat_minor": 2
}
